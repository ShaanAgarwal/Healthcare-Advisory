{
 "cells": [
  {
   "cell_type": "code",
   "execution_count": 1,
   "id": "cb97d768-7c9b-48cb-afad-d704bf839516",
   "metadata": {},
   "outputs": [],
   "source": [
    "import numpy as np\n",
    "import pandas as pd\n",
    "import sklearn.datasets\n",
    "from sklearn.model_selection import train_test_split\n",
    "from sklearn.linear_model import LogisticRegression\n",
    "from sklearn.metrics import accuracy_score"
   ]
  },
  {
   "cell_type": "code",
   "execution_count": 2,
   "id": "c9986874-d27a-4961-8231-6928e0b0641f",
   "metadata": {},
   "outputs": [],
   "source": [
    "data = pd.read_csv('depression.csv')"
   ]
  },
  {
   "cell_type": "code",
   "execution_count": 3,
   "id": "16fe5b38-010b-48d0-ab23-0e61fd773def",
   "metadata": {},
   "outputs": [
    {
     "data": {
      "text/html": [
       "<div>\n",
       "<style scoped>\n",
       "    .dataframe tbody tr th:only-of-type {\n",
       "        vertical-align: middle;\n",
       "    }\n",
       "\n",
       "    .dataframe tbody tr th {\n",
       "        vertical-align: top;\n",
       "    }\n",
       "\n",
       "    .dataframe thead th {\n",
       "        text-align: right;\n",
       "    }\n",
       "</style>\n",
       "<table border=\"1\" class=\"dataframe\">\n",
       "  <thead>\n",
       "    <tr style=\"text-align: right;\">\n",
       "      <th></th>\n",
       "      <th>Sex</th>\n",
       "      <th>Age</th>\n",
       "      <th>Married</th>\n",
       "      <th>Number_Of_Children</th>\n",
       "      <th>Total_Members</th>\n",
       "      <th>Asset_Value</th>\n",
       "      <th>Living_Expenses</th>\n",
       "      <th>Salary</th>\n",
       "      <th>Investment</th>\n",
       "      <th>Depression</th>\n",
       "    </tr>\n",
       "  </thead>\n",
       "  <tbody>\n",
       "    <tr>\n",
       "      <th>0</th>\n",
       "      <td>1</td>\n",
       "      <td>28</td>\n",
       "      <td>1</td>\n",
       "      <td>4</td>\n",
       "      <td>5</td>\n",
       "      <td>28912201</td>\n",
       "      <td>26692283</td>\n",
       "      <td>0</td>\n",
       "      <td>28411718</td>\n",
       "      <td>0</td>\n",
       "    </tr>\n",
       "    <tr>\n",
       "      <th>1</th>\n",
       "      <td>1</td>\n",
       "      <td>23</td>\n",
       "      <td>1</td>\n",
       "      <td>3</td>\n",
       "      <td>5</td>\n",
       "      <td>28912201</td>\n",
       "      <td>26692283</td>\n",
       "      <td>0</td>\n",
       "      <td>28411718</td>\n",
       "      <td>1</td>\n",
       "    </tr>\n",
       "    <tr>\n",
       "      <th>2</th>\n",
       "      <td>1</td>\n",
       "      <td>22</td>\n",
       "      <td>1</td>\n",
       "      <td>3</td>\n",
       "      <td>5</td>\n",
       "      <td>28912201</td>\n",
       "      <td>26692283</td>\n",
       "      <td>0</td>\n",
       "      <td>28411718</td>\n",
       "      <td>0</td>\n",
       "    </tr>\n",
       "    <tr>\n",
       "      <th>3</th>\n",
       "      <td>1</td>\n",
       "      <td>27</td>\n",
       "      <td>1</td>\n",
       "      <td>2</td>\n",
       "      <td>4</td>\n",
       "      <td>52667108</td>\n",
       "      <td>397715</td>\n",
       "      <td>0</td>\n",
       "      <td>7781123</td>\n",
       "      <td>0</td>\n",
       "    </tr>\n",
       "    <tr>\n",
       "      <th>4</th>\n",
       "      <td>0</td>\n",
       "      <td>59</td>\n",
       "      <td>0</td>\n",
       "      <td>4</td>\n",
       "      <td>6</td>\n",
       "      <td>82606287</td>\n",
       "      <td>80877619</td>\n",
       "      <td>1</td>\n",
       "      <td>20100562</td>\n",
       "      <td>0</td>\n",
       "    </tr>\n",
       "    <tr>\n",
       "      <th>...</th>\n",
       "      <td>...</td>\n",
       "      <td>...</td>\n",
       "      <td>...</td>\n",
       "      <td>...</td>\n",
       "      <td>...</td>\n",
       "      <td>...</td>\n",
       "      <td>...</td>\n",
       "      <td>...</td>\n",
       "      <td>...</td>\n",
       "      <td>...</td>\n",
       "    </tr>\n",
       "    <tr>\n",
       "      <th>1424</th>\n",
       "      <td>1</td>\n",
       "      <td>25</td>\n",
       "      <td>1</td>\n",
       "      <td>1</td>\n",
       "      <td>5</td>\n",
       "      <td>28912201</td>\n",
       "      <td>26692283</td>\n",
       "      <td>0</td>\n",
       "      <td>28411718</td>\n",
       "      <td>0</td>\n",
       "    </tr>\n",
       "    <tr>\n",
       "      <th>1425</th>\n",
       "      <td>1</td>\n",
       "      <td>28</td>\n",
       "      <td>1</td>\n",
       "      <td>4</td>\n",
       "      <td>6</td>\n",
       "      <td>15711078</td>\n",
       "      <td>10476722</td>\n",
       "      <td>0</td>\n",
       "      <td>1823477</td>\n",
       "      <td>0</td>\n",
       "    </tr>\n",
       "    <tr>\n",
       "      <th>1426</th>\n",
       "      <td>1</td>\n",
       "      <td>66</td>\n",
       "      <td>0</td>\n",
       "      <td>0</td>\n",
       "      <td>1</td>\n",
       "      <td>42440731</td>\n",
       "      <td>12545372</td>\n",
       "      <td>0</td>\n",
       "      <td>46444572</td>\n",
       "      <td>1</td>\n",
       "    </tr>\n",
       "    <tr>\n",
       "      <th>1427</th>\n",
       "      <td>1</td>\n",
       "      <td>51</td>\n",
       "      <td>1</td>\n",
       "      <td>1</td>\n",
       "      <td>5</td>\n",
       "      <td>28912201</td>\n",
       "      <td>26692283</td>\n",
       "      <td>0</td>\n",
       "      <td>28411718</td>\n",
       "      <td>0</td>\n",
       "    </tr>\n",
       "    <tr>\n",
       "      <th>1428</th>\n",
       "      <td>1</td>\n",
       "      <td>33</td>\n",
       "      <td>0</td>\n",
       "      <td>4</td>\n",
       "      <td>5</td>\n",
       "      <td>81678391</td>\n",
       "      <td>10289875</td>\n",
       "      <td>0</td>\n",
       "      <td>69642126</td>\n",
       "      <td>0</td>\n",
       "    </tr>\n",
       "  </tbody>\n",
       "</table>\n",
       "<p>1429 rows × 10 columns</p>\n",
       "</div>"
      ],
      "text/plain": [
       "      Sex  Age  Married  Number_Of_Children  Total_Members  Asset_Value  \\\n",
       "0       1   28        1                   4              5     28912201   \n",
       "1       1   23        1                   3              5     28912201   \n",
       "2       1   22        1                   3              5     28912201   \n",
       "3       1   27        1                   2              4     52667108   \n",
       "4       0   59        0                   4              6     82606287   \n",
       "...   ...  ...      ...                 ...            ...          ...   \n",
       "1424    1   25        1                   1              5     28912201   \n",
       "1425    1   28        1                   4              6     15711078   \n",
       "1426    1   66        0                   0              1     42440731   \n",
       "1427    1   51        1                   1              5     28912201   \n",
       "1428    1   33        0                   4              5     81678391   \n",
       "\n",
       "      Living_Expenses  Salary  Investment  Depression  \n",
       "0            26692283       0    28411718           0  \n",
       "1            26692283       0    28411718           1  \n",
       "2            26692283       0    28411718           0  \n",
       "3              397715       0     7781123           0  \n",
       "4            80877619       1    20100562           0  \n",
       "...               ...     ...         ...         ...  \n",
       "1424         26692283       0    28411718           0  \n",
       "1425         10476722       0     1823477           0  \n",
       "1426         12545372       0    46444572           1  \n",
       "1427         26692283       0    28411718           0  \n",
       "1428         10289875       0    69642126           0  \n",
       "\n",
       "[1429 rows x 10 columns]"
      ]
     },
     "execution_count": 3,
     "metadata": {},
     "output_type": "execute_result"
    }
   ],
   "source": [
    "data"
   ]
  },
  {
   "cell_type": "code",
   "execution_count": 4,
   "id": "0e5ded31-4efb-4573-b62e-2d4216691ccd",
   "metadata": {},
   "outputs": [],
   "source": [
    "X = data.drop(['Depression'], axis=1)\n",
    "Y = data['Depression']"
   ]
  },
  {
   "cell_type": "code",
   "execution_count": 5,
   "id": "d914c132-7aac-42a3-9780-a9e441bde036",
   "metadata": {},
   "outputs": [
    {
     "data": {
      "text/html": [
       "<div>\n",
       "<style scoped>\n",
       "    .dataframe tbody tr th:only-of-type {\n",
       "        vertical-align: middle;\n",
       "    }\n",
       "\n",
       "    .dataframe tbody tr th {\n",
       "        vertical-align: top;\n",
       "    }\n",
       "\n",
       "    .dataframe thead th {\n",
       "        text-align: right;\n",
       "    }\n",
       "</style>\n",
       "<table border=\"1\" class=\"dataframe\">\n",
       "  <thead>\n",
       "    <tr style=\"text-align: right;\">\n",
       "      <th></th>\n",
       "      <th>Sex</th>\n",
       "      <th>Age</th>\n",
       "      <th>Married</th>\n",
       "      <th>Number_Of_Children</th>\n",
       "      <th>Total_Members</th>\n",
       "      <th>Asset_Value</th>\n",
       "      <th>Living_Expenses</th>\n",
       "      <th>Salary</th>\n",
       "      <th>Investment</th>\n",
       "    </tr>\n",
       "  </thead>\n",
       "  <tbody>\n",
       "    <tr>\n",
       "      <th>0</th>\n",
       "      <td>1</td>\n",
       "      <td>28</td>\n",
       "      <td>1</td>\n",
       "      <td>4</td>\n",
       "      <td>5</td>\n",
       "      <td>28912201</td>\n",
       "      <td>26692283</td>\n",
       "      <td>0</td>\n",
       "      <td>28411718</td>\n",
       "    </tr>\n",
       "    <tr>\n",
       "      <th>1</th>\n",
       "      <td>1</td>\n",
       "      <td>23</td>\n",
       "      <td>1</td>\n",
       "      <td>3</td>\n",
       "      <td>5</td>\n",
       "      <td>28912201</td>\n",
       "      <td>26692283</td>\n",
       "      <td>0</td>\n",
       "      <td>28411718</td>\n",
       "    </tr>\n",
       "    <tr>\n",
       "      <th>2</th>\n",
       "      <td>1</td>\n",
       "      <td>22</td>\n",
       "      <td>1</td>\n",
       "      <td>3</td>\n",
       "      <td>5</td>\n",
       "      <td>28912201</td>\n",
       "      <td>26692283</td>\n",
       "      <td>0</td>\n",
       "      <td>28411718</td>\n",
       "    </tr>\n",
       "    <tr>\n",
       "      <th>3</th>\n",
       "      <td>1</td>\n",
       "      <td>27</td>\n",
       "      <td>1</td>\n",
       "      <td>2</td>\n",
       "      <td>4</td>\n",
       "      <td>52667108</td>\n",
       "      <td>397715</td>\n",
       "      <td>0</td>\n",
       "      <td>7781123</td>\n",
       "    </tr>\n",
       "    <tr>\n",
       "      <th>4</th>\n",
       "      <td>0</td>\n",
       "      <td>59</td>\n",
       "      <td>0</td>\n",
       "      <td>4</td>\n",
       "      <td>6</td>\n",
       "      <td>82606287</td>\n",
       "      <td>80877619</td>\n",
       "      <td>1</td>\n",
       "      <td>20100562</td>\n",
       "    </tr>\n",
       "    <tr>\n",
       "      <th>...</th>\n",
       "      <td>...</td>\n",
       "      <td>...</td>\n",
       "      <td>...</td>\n",
       "      <td>...</td>\n",
       "      <td>...</td>\n",
       "      <td>...</td>\n",
       "      <td>...</td>\n",
       "      <td>...</td>\n",
       "      <td>...</td>\n",
       "    </tr>\n",
       "    <tr>\n",
       "      <th>1424</th>\n",
       "      <td>1</td>\n",
       "      <td>25</td>\n",
       "      <td>1</td>\n",
       "      <td>1</td>\n",
       "      <td>5</td>\n",
       "      <td>28912201</td>\n",
       "      <td>26692283</td>\n",
       "      <td>0</td>\n",
       "      <td>28411718</td>\n",
       "    </tr>\n",
       "    <tr>\n",
       "      <th>1425</th>\n",
       "      <td>1</td>\n",
       "      <td>28</td>\n",
       "      <td>1</td>\n",
       "      <td>4</td>\n",
       "      <td>6</td>\n",
       "      <td>15711078</td>\n",
       "      <td>10476722</td>\n",
       "      <td>0</td>\n",
       "      <td>1823477</td>\n",
       "    </tr>\n",
       "    <tr>\n",
       "      <th>1426</th>\n",
       "      <td>1</td>\n",
       "      <td>66</td>\n",
       "      <td>0</td>\n",
       "      <td>0</td>\n",
       "      <td>1</td>\n",
       "      <td>42440731</td>\n",
       "      <td>12545372</td>\n",
       "      <td>0</td>\n",
       "      <td>46444572</td>\n",
       "    </tr>\n",
       "    <tr>\n",
       "      <th>1427</th>\n",
       "      <td>1</td>\n",
       "      <td>51</td>\n",
       "      <td>1</td>\n",
       "      <td>1</td>\n",
       "      <td>5</td>\n",
       "      <td>28912201</td>\n",
       "      <td>26692283</td>\n",
       "      <td>0</td>\n",
       "      <td>28411718</td>\n",
       "    </tr>\n",
       "    <tr>\n",
       "      <th>1428</th>\n",
       "      <td>1</td>\n",
       "      <td>33</td>\n",
       "      <td>0</td>\n",
       "      <td>4</td>\n",
       "      <td>5</td>\n",
       "      <td>81678391</td>\n",
       "      <td>10289875</td>\n",
       "      <td>0</td>\n",
       "      <td>69642126</td>\n",
       "    </tr>\n",
       "  </tbody>\n",
       "</table>\n",
       "<p>1429 rows × 9 columns</p>\n",
       "</div>"
      ],
      "text/plain": [
       "      Sex  Age  Married  Number_Of_Children  Total_Members  Asset_Value  \\\n",
       "0       1   28        1                   4              5     28912201   \n",
       "1       1   23        1                   3              5     28912201   \n",
       "2       1   22        1                   3              5     28912201   \n",
       "3       1   27        1                   2              4     52667108   \n",
       "4       0   59        0                   4              6     82606287   \n",
       "...   ...  ...      ...                 ...            ...          ...   \n",
       "1424    1   25        1                   1              5     28912201   \n",
       "1425    1   28        1                   4              6     15711078   \n",
       "1426    1   66        0                   0              1     42440731   \n",
       "1427    1   51        1                   1              5     28912201   \n",
       "1428    1   33        0                   4              5     81678391   \n",
       "\n",
       "      Living_Expenses  Salary  Investment  \n",
       "0            26692283       0    28411718  \n",
       "1            26692283       0    28411718  \n",
       "2            26692283       0    28411718  \n",
       "3              397715       0     7781123  \n",
       "4            80877619       1    20100562  \n",
       "...               ...     ...         ...  \n",
       "1424         26692283       0    28411718  \n",
       "1425         10476722       0     1823477  \n",
       "1426         12545372       0    46444572  \n",
       "1427         26692283       0    28411718  \n",
       "1428         10289875       0    69642126  \n",
       "\n",
       "[1429 rows x 9 columns]"
      ]
     },
     "execution_count": 5,
     "metadata": {},
     "output_type": "execute_result"
    }
   ],
   "source": [
    "X"
   ]
  },
  {
   "cell_type": "code",
   "execution_count": 6,
   "id": "9fe6c380-2b53-4ea8-b77e-5f2bcecc2126",
   "metadata": {},
   "outputs": [],
   "source": [
    "X_train, X_test, Y_train, Y_test = train_test_split(X, Y, test_size=0.2, random_state=2)"
   ]
  },
  {
   "cell_type": "code",
   "execution_count": 7,
   "id": "6c773c65-48ae-42d6-b84a-bb2c1d320805",
   "metadata": {},
   "outputs": [
    {
     "name": "stdout",
     "output_type": "stream",
     "text": [
      "(1429, 9) (1143, 9) (286, 9)\n"
     ]
    }
   ],
   "source": [
    "print(X.shape, X_train.shape, X_test.shape)"
   ]
  },
  {
   "cell_type": "code",
   "execution_count": 8,
   "id": "025507b3-bdcc-485e-b8c1-c89755c75cd1",
   "metadata": {},
   "outputs": [],
   "source": [
    "model = LogisticRegression(max_iter = 1000)"
   ]
  },
  {
   "cell_type": "code",
   "execution_count": 9,
   "id": "e9aa1a04-d800-484f-aefa-99be245f01d2",
   "metadata": {},
   "outputs": [
    {
     "data": {
      "text/plain": [
       "LogisticRegression(max_iter=1000)"
      ]
     },
     "execution_count": 9,
     "metadata": {},
     "output_type": "execute_result"
    }
   ],
   "source": [
    "model.fit(X_train, Y_train)"
   ]
  },
  {
   "cell_type": "code",
   "execution_count": 10,
   "id": "0fd2bb09-faca-4c50-a721-17b93a84f4a8",
   "metadata": {},
   "outputs": [],
   "source": [
    "# accuracy on training data\n",
    "X_train_prediction = model.predict(X_train)\n",
    "training_data_accuracy = accuracy_score(Y_train, X_train_prediction)"
   ]
  },
  {
   "cell_type": "code",
   "execution_count": 11,
   "id": "6f4db33f-a1b3-4490-b79c-5a788b00de5b",
   "metadata": {},
   "outputs": [
    {
     "name": "stdout",
     "output_type": "stream",
     "text": [
      "Accuracy on training data =  0.8381452318460193\n"
     ]
    }
   ],
   "source": [
    "print('Accuracy on training data = ', training_data_accuracy)"
   ]
  },
  {
   "cell_type": "code",
   "execution_count": 12,
   "id": "6dccd198-57c3-45c2-a59f-c08d2b0cc6d5",
   "metadata": {},
   "outputs": [],
   "source": [
    "# accuracy on test data\n",
    "X_test_prediction = model.predict(X_test)\n",
    "test_data_accuracy = accuracy_score(Y_test, X_test_prediction)"
   ]
  },
  {
   "cell_type": "code",
   "execution_count": 13,
   "id": "113d7a26-9127-4a29-9eb2-45f89c89d3b9",
   "metadata": {},
   "outputs": [
    {
     "name": "stdout",
     "output_type": "stream",
     "text": [
      "Accuracy on test data =  0.8146853146853147\n"
     ]
    }
   ],
   "source": [
    "print('Accuracy on test data = ', test_data_accuracy)"
   ]
  },
  {
   "cell_type": "code",
   "execution_count": 15,
   "id": "c836b322-8ecf-48cc-9e77-2b5313c8385b",
   "metadata": {},
   "outputs": [
    {
     "name": "stdout",
     "output_type": "stream",
     "text": [
      "[0]\n",
      "You are not suffering from depression.\n"
     ]
    },
    {
     "name": "stderr",
     "output_type": "stream",
     "text": [
      "/opt/conda/envs/anaconda-2022.05-py39/lib/python3.9/site-packages/sklearn/base.py:450: UserWarning: X does not have valid feature names, but LogisticRegression was fitted with feature names\n",
      "  warnings.warn(\n"
     ]
    }
   ],
   "source": [
    "input_data = (1, 28, 1, 4, 5, 28912201, 26692283, 0, 28411718)\n",
    "\n",
    "# change the input data to a numpy array\n",
    "input_data_as_numpy_array = np.asarray(input_data)\n",
    "\n",
    "# reshape the numpy array as we are predicting for one datapoint\n",
    "input_data_reshaped = input_data_as_numpy_array.reshape(1,-1)\n",
    "\n",
    "prediction = model.predict(input_data_reshaped)\n",
    "print(prediction)\n",
    "\n",
    "if (prediction[0] == '1'):\n",
    "  print('You are suffering from depression.')\n",
    "else:\n",
    "    print('You are not suffering from depression.')"
   ]
  },
  {
   "cell_type": "code",
   "execution_count": 16,
   "id": "6c3a7659-b813-46f1-a265-2b8f7dd295a6",
   "metadata": {},
   "outputs": [],
   "source": [
    "from joblib import dump"
   ]
  },
  {
   "cell_type": "code",
   "execution_count": 17,
   "id": "18973aca-0dbd-47ec-a5d9-3ab888a7799f",
   "metadata": {},
   "outputs": [
    {
     "data": {
      "text/plain": [
       "['depression_model.joblib']"
      ]
     },
     "execution_count": 17,
     "metadata": {},
     "output_type": "execute_result"
    }
   ],
   "source": [
    "dump(model, 'depression_model.joblib')"
   ]
  },
  {
   "cell_type": "code",
   "execution_count": null,
   "id": "ae33e03d-8775-46e2-bd1b-e34e47a10f04",
   "metadata": {},
   "outputs": [],
   "source": []
  }
 ],
 "metadata": {
  "kernelspec": {
   "display_name": "anaconda-2022.05-py39",
   "language": "python",
   "name": "conda-env-anaconda-2022.05-py39-py"
  },
  "language_info": {
   "codemirror_mode": {
    "name": "ipython",
    "version": 3
   },
   "file_extension": ".py",
   "mimetype": "text/x-python",
   "name": "python",
   "nbconvert_exporter": "python",
   "pygments_lexer": "ipython3",
   "version": "3.9.12"
  }
 },
 "nbformat": 4,
 "nbformat_minor": 5
}
